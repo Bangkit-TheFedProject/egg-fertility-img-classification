{
  "cells": [
    {
      "cell_type": "markdown",
      "metadata": {
        "id": "A2LiHWoFVJJo"
      },
      "source": [
        "# Fertile Egg Detector [CH2-PS266]\n",
        "\n",
        "Bangkit Batch 2 2023\n",
        "\n",
        "**Designing a Deep Learning-Based Mobile Application for Egg Candling**\n",
        "\n",
        "*Theme: Food Accessibility, Agribusiness, and Food Security*\n",
        "\n",
        "**Team Member**\n",
        "\n",
        "1.  (ML) M466BSX1032 – Brilian Herda – Universitas Sains Al-Qur’ an - [Active]\n",
        "2.  (ML) M466BSY1195 – Ahmad Ma'ruf – Universitas Sains Al-Qur’an - [Active]\n",
        "3.  (ML) M123BSY1353 – Habibi Ahmadi Muslim – Politeknik Elektronika Negeri Surabaya - [Active]\n",
        "4.  (CC) C182BSY3830 – Fathin Cahyo Ramadhan – Universitas Amikom Purwokerto - [Active]\n",
        "5.  (CC) C182BSY3969 – Yuntafa Ulkhaq – Universitas Amikom Purwokerto - [Active]\n",
        "6.  (MD) A182BSY2566 – Sandhya Nugraha Qusnur Aulia - Universitas Amikom Purwokerto - [Active]\n",
        "7.  (MD) A548BKY4459 - Zulfahmi M. Ardianto - UIN Sunan Kalijaga Yogyakarta - [Active]\n",
        "\n",
        "In this project, we've leveraged a cloud-based machine learning model for egg classification. This model, trained on diverse egg stage data, enables real-time analysis of images from the camera or gallery within the mobile app. It accurately categorizes eggs into early, mid, late, or non-viable stages, enhancing its functionality significantly.\n"
      ]
    },
    {
      "cell_type": "code",
      "execution_count": 1,
      "metadata": {
        "colab": {
          "base_uri": "https://localhost:8080/"
        },
        "id": "1LOAInKPbk4W",
        "outputId": "26e88827-bdad-4fba-fca3-172155872ba3"
      },
      "outputs": [
        {
          "output_type": "stream",
          "name": "stdout",
          "text": [
            "Collecting tensorflowjs\n",
            "  Downloading tensorflowjs-4.15.0-py3-none-any.whl (89 kB)\n",
            "\u001b[2K     \u001b[90m━━━━━━━━━━━━━━━━━━━━━━━━━━━━━━━━━━━━━━━━\u001b[0m \u001b[32m89.2/89.2 kB\u001b[0m \u001b[31m973.4 kB/s\u001b[0m eta \u001b[36m0:00:00\u001b[0m\n",
            "\u001b[?25hRequirement already satisfied: flax>=0.7.2 in /usr/local/lib/python3.10/dist-packages (from tensorflowjs) (0.7.5)\n",
            "Requirement already satisfied: importlib_resources>=5.9.0 in /usr/local/lib/python3.10/dist-packages (from tensorflowjs) (6.1.1)\n",
            "Requirement already satisfied: jax>=0.4.13 in /usr/local/lib/python3.10/dist-packages (from tensorflowjs) (0.4.23)\n",
            "Requirement already satisfied: jaxlib>=0.4.13 in /usr/local/lib/python3.10/dist-packages (from tensorflowjs) (0.4.23+cuda12.cudnn89)\n",
            "Requirement already satisfied: tensorflow<3,>=2.13.0 in /usr/local/lib/python3.10/dist-packages (from tensorflowjs) (2.15.0)\n",
            "Collecting tensorflow-decision-forests>=1.5.0 (from tensorflowjs)\n",
            "  Downloading tensorflow_decision_forests-1.8.1-cp310-cp310-manylinux_2_17_x86_64.manylinux2014_x86_64.whl (15.3 MB)\n",
            "\u001b[2K     \u001b[90m━━━━━━━━━━━━━━━━━━━━━━━━━━━━━━━━━━━━━━━━\u001b[0m \u001b[32m15.3/15.3 MB\u001b[0m \u001b[31m24.2 MB/s\u001b[0m eta \u001b[36m0:00:00\u001b[0m\n",
            "\u001b[?25hRequirement already satisfied: six<2,>=1.16.0 in /usr/local/lib/python3.10/dist-packages (from tensorflowjs) (1.16.0)\n",
            "Requirement already satisfied: tensorflow-hub>=0.14.0 in /usr/local/lib/python3.10/dist-packages (from tensorflowjs) (0.15.0)\n",
            "Requirement already satisfied: packaging~=23.1 in /usr/local/lib/python3.10/dist-packages (from tensorflowjs) (23.2)\n",
            "Requirement already satisfied: numpy>=1.22 in /usr/local/lib/python3.10/dist-packages (from flax>=0.7.2->tensorflowjs) (1.23.5)\n",
            "Requirement already satisfied: msgpack in /usr/local/lib/python3.10/dist-packages (from flax>=0.7.2->tensorflowjs) (1.0.7)\n",
            "Requirement already satisfied: optax in /usr/local/lib/python3.10/dist-packages (from flax>=0.7.2->tensorflowjs) (0.1.7)\n",
            "Requirement already satisfied: orbax-checkpoint in /usr/local/lib/python3.10/dist-packages (from flax>=0.7.2->tensorflowjs) (0.4.4)\n",
            "Requirement already satisfied: tensorstore in /usr/local/lib/python3.10/dist-packages (from flax>=0.7.2->tensorflowjs) (0.1.45)\n",
            "Requirement already satisfied: rich>=11.1 in /usr/local/lib/python3.10/dist-packages (from flax>=0.7.2->tensorflowjs) (13.7.0)\n",
            "Requirement already satisfied: typing-extensions>=4.2 in /usr/local/lib/python3.10/dist-packages (from flax>=0.7.2->tensorflowjs) (4.5.0)\n",
            "Requirement already satisfied: PyYAML>=5.4.1 in /usr/local/lib/python3.10/dist-packages (from flax>=0.7.2->tensorflowjs) (6.0.1)\n",
            "Requirement already satisfied: ml-dtypes>=0.2.0 in /usr/local/lib/python3.10/dist-packages (from jax>=0.4.13->tensorflowjs) (0.2.0)\n",
            "Requirement already satisfied: opt-einsum in /usr/local/lib/python3.10/dist-packages (from jax>=0.4.13->tensorflowjs) (3.3.0)\n",
            "Requirement already satisfied: scipy>=1.9 in /usr/local/lib/python3.10/dist-packages (from jax>=0.4.13->tensorflowjs) (1.11.4)\n",
            "Requirement already satisfied: absl-py>=1.0.0 in /usr/local/lib/python3.10/dist-packages (from tensorflow<3,>=2.13.0->tensorflowjs) (1.4.0)\n",
            "Requirement already satisfied: astunparse>=1.6.0 in /usr/local/lib/python3.10/dist-packages (from tensorflow<3,>=2.13.0->tensorflowjs) (1.6.3)\n",
            "Requirement already satisfied: flatbuffers>=23.5.26 in /usr/local/lib/python3.10/dist-packages (from tensorflow<3,>=2.13.0->tensorflowjs) (23.5.26)\n",
            "Requirement already satisfied: gast!=0.5.0,!=0.5.1,!=0.5.2,>=0.2.1 in /usr/local/lib/python3.10/dist-packages (from tensorflow<3,>=2.13.0->tensorflowjs) (0.5.4)\n",
            "Requirement already satisfied: google-pasta>=0.1.1 in /usr/local/lib/python3.10/dist-packages (from tensorflow<3,>=2.13.0->tensorflowjs) (0.2.0)\n",
            "Requirement already satisfied: h5py>=2.9.0 in /usr/local/lib/python3.10/dist-packages (from tensorflow<3,>=2.13.0->tensorflowjs) (3.9.0)\n",
            "Requirement already satisfied: libclang>=13.0.0 in /usr/local/lib/python3.10/dist-packages (from tensorflow<3,>=2.13.0->tensorflowjs) (16.0.6)\n",
            "Requirement already satisfied: protobuf!=4.21.0,!=4.21.1,!=4.21.2,!=4.21.3,!=4.21.4,!=4.21.5,<5.0.0dev,>=3.20.3 in /usr/local/lib/python3.10/dist-packages (from tensorflow<3,>=2.13.0->tensorflowjs) (3.20.3)\n",
            "Requirement already satisfied: setuptools in /usr/local/lib/python3.10/dist-packages (from tensorflow<3,>=2.13.0->tensorflowjs) (67.7.2)\n",
            "Requirement already satisfied: termcolor>=1.1.0 in /usr/local/lib/python3.10/dist-packages (from tensorflow<3,>=2.13.0->tensorflowjs) (2.4.0)\n",
            "Requirement already satisfied: wrapt<1.15,>=1.11.0 in /usr/local/lib/python3.10/dist-packages (from tensorflow<3,>=2.13.0->tensorflowjs) (1.14.1)\n",
            "Requirement already satisfied: tensorflow-io-gcs-filesystem>=0.23.1 in /usr/local/lib/python3.10/dist-packages (from tensorflow<3,>=2.13.0->tensorflowjs) (0.34.0)\n",
            "Requirement already satisfied: grpcio<2.0,>=1.24.3 in /usr/local/lib/python3.10/dist-packages (from tensorflow<3,>=2.13.0->tensorflowjs) (1.60.0)\n",
            "Requirement already satisfied: tensorboard<2.16,>=2.15 in /usr/local/lib/python3.10/dist-packages (from tensorflow<3,>=2.13.0->tensorflowjs) (2.15.1)\n",
            "Requirement already satisfied: tensorflow-estimator<2.16,>=2.15.0 in /usr/local/lib/python3.10/dist-packages (from tensorflow<3,>=2.13.0->tensorflowjs) (2.15.0)\n",
            "Requirement already satisfied: keras<2.16,>=2.15.0 in /usr/local/lib/python3.10/dist-packages (from tensorflow<3,>=2.13.0->tensorflowjs) (2.15.0)\n",
            "Requirement already satisfied: pandas in /usr/local/lib/python3.10/dist-packages (from tensorflow-decision-forests>=1.5.0->tensorflowjs) (1.5.3)\n",
            "Requirement already satisfied: wheel in /usr/local/lib/python3.10/dist-packages (from tensorflow-decision-forests>=1.5.0->tensorflowjs) (0.42.0)\n",
            "Collecting wurlitzer (from tensorflow-decision-forests>=1.5.0->tensorflowjs)\n",
            "  Downloading wurlitzer-3.0.3-py3-none-any.whl (7.3 kB)\n",
            "Requirement already satisfied: markdown-it-py>=2.2.0 in /usr/local/lib/python3.10/dist-packages (from rich>=11.1->flax>=0.7.2->tensorflowjs) (3.0.0)\n",
            "Requirement already satisfied: pygments<3.0.0,>=2.13.0 in /usr/local/lib/python3.10/dist-packages (from rich>=11.1->flax>=0.7.2->tensorflowjs) (2.16.1)\n",
            "Requirement already satisfied: google-auth<3,>=1.6.3 in /usr/local/lib/python3.10/dist-packages (from tensorboard<2.16,>=2.15->tensorflow<3,>=2.13.0->tensorflowjs) (2.17.3)\n",
            "Requirement already satisfied: google-auth-oauthlib<2,>=0.5 in /usr/local/lib/python3.10/dist-packages (from tensorboard<2.16,>=2.15->tensorflow<3,>=2.13.0->tensorflowjs) (1.2.0)\n",
            "Requirement already satisfied: markdown>=2.6.8 in /usr/local/lib/python3.10/dist-packages (from tensorboard<2.16,>=2.15->tensorflow<3,>=2.13.0->tensorflowjs) (3.5.1)\n",
            "Requirement already satisfied: requests<3,>=2.21.0 in /usr/local/lib/python3.10/dist-packages (from tensorboard<2.16,>=2.15->tensorflow<3,>=2.13.0->tensorflowjs) (2.31.0)\n",
            "Requirement already satisfied: tensorboard-data-server<0.8.0,>=0.7.0 in /usr/local/lib/python3.10/dist-packages (from tensorboard<2.16,>=2.15->tensorflow<3,>=2.13.0->tensorflowjs) (0.7.2)\n",
            "Requirement already satisfied: werkzeug>=1.0.1 in /usr/local/lib/python3.10/dist-packages (from tensorboard<2.16,>=2.15->tensorflow<3,>=2.13.0->tensorflowjs) (3.0.1)\n",
            "Requirement already satisfied: chex>=0.1.5 in /usr/local/lib/python3.10/dist-packages (from optax->flax>=0.7.2->tensorflowjs) (0.1.7)\n",
            "Requirement already satisfied: etils[epath,epy] in /usr/local/lib/python3.10/dist-packages (from orbax-checkpoint->flax>=0.7.2->tensorflowjs) (1.6.0)\n",
            "Requirement already satisfied: nest_asyncio in /usr/local/lib/python3.10/dist-packages (from orbax-checkpoint->flax>=0.7.2->tensorflowjs) (1.5.8)\n",
            "Requirement already satisfied: python-dateutil>=2.8.1 in /usr/local/lib/python3.10/dist-packages (from pandas->tensorflow-decision-forests>=1.5.0->tensorflowjs) (2.8.2)\n",
            "Requirement already satisfied: pytz>=2020.1 in /usr/local/lib/python3.10/dist-packages (from pandas->tensorflow-decision-forests>=1.5.0->tensorflowjs) (2023.3.post1)\n",
            "Requirement already satisfied: dm-tree>=0.1.5 in /usr/local/lib/python3.10/dist-packages (from chex>=0.1.5->optax->flax>=0.7.2->tensorflowjs) (0.1.8)\n",
            "Requirement already satisfied: toolz>=0.9.0 in /usr/local/lib/python3.10/dist-packages (from chex>=0.1.5->optax->flax>=0.7.2->tensorflowjs) (0.12.0)\n",
            "Requirement already satisfied: cachetools<6.0,>=2.0.0 in /usr/local/lib/python3.10/dist-packages (from google-auth<3,>=1.6.3->tensorboard<2.16,>=2.15->tensorflow<3,>=2.13.0->tensorflowjs) (5.3.2)\n",
            "Requirement already satisfied: pyasn1-modules>=0.2.1 in /usr/local/lib/python3.10/dist-packages (from google-auth<3,>=1.6.3->tensorboard<2.16,>=2.15->tensorflow<3,>=2.13.0->tensorflowjs) (0.3.0)\n",
            "Requirement already satisfied: rsa<5,>=3.1.4 in /usr/local/lib/python3.10/dist-packages (from google-auth<3,>=1.6.3->tensorboard<2.16,>=2.15->tensorflow<3,>=2.13.0->tensorflowjs) (4.9)\n",
            "Requirement already satisfied: requests-oauthlib>=0.7.0 in /usr/local/lib/python3.10/dist-packages (from google-auth-oauthlib<2,>=0.5->tensorboard<2.16,>=2.15->tensorflow<3,>=2.13.0->tensorflowjs) (1.3.1)\n",
            "Requirement already satisfied: mdurl~=0.1 in /usr/local/lib/python3.10/dist-packages (from markdown-it-py>=2.2.0->rich>=11.1->flax>=0.7.2->tensorflowjs) (0.1.2)\n",
            "Requirement already satisfied: charset-normalizer<4,>=2 in /usr/local/lib/python3.10/dist-packages (from requests<3,>=2.21.0->tensorboard<2.16,>=2.15->tensorflow<3,>=2.13.0->tensorflowjs) (3.3.2)\n",
            "Requirement already satisfied: idna<4,>=2.5 in /usr/local/lib/python3.10/dist-packages (from requests<3,>=2.21.0->tensorboard<2.16,>=2.15->tensorflow<3,>=2.13.0->tensorflowjs) (3.6)\n",
            "Requirement already satisfied: urllib3<3,>=1.21.1 in /usr/local/lib/python3.10/dist-packages (from requests<3,>=2.21.0->tensorboard<2.16,>=2.15->tensorflow<3,>=2.13.0->tensorflowjs) (2.0.7)\n",
            "Requirement already satisfied: certifi>=2017.4.17 in /usr/local/lib/python3.10/dist-packages (from requests<3,>=2.21.0->tensorboard<2.16,>=2.15->tensorflow<3,>=2.13.0->tensorflowjs) (2023.11.17)\n",
            "Requirement already satisfied: MarkupSafe>=2.1.1 in /usr/local/lib/python3.10/dist-packages (from werkzeug>=1.0.1->tensorboard<2.16,>=2.15->tensorflow<3,>=2.13.0->tensorflowjs) (2.1.3)\n",
            "Requirement already satisfied: fsspec in /usr/local/lib/python3.10/dist-packages (from etils[epath,epy]->orbax-checkpoint->flax>=0.7.2->tensorflowjs) (2023.6.0)\n",
            "Requirement already satisfied: zipp in /usr/local/lib/python3.10/dist-packages (from etils[epath,epy]->orbax-checkpoint->flax>=0.7.2->tensorflowjs) (3.17.0)\n",
            "Requirement already satisfied: pyasn1<0.6.0,>=0.4.6 in /usr/local/lib/python3.10/dist-packages (from pyasn1-modules>=0.2.1->google-auth<3,>=1.6.3->tensorboard<2.16,>=2.15->tensorflow<3,>=2.13.0->tensorflowjs) (0.5.1)\n",
            "Requirement already satisfied: oauthlib>=3.0.0 in /usr/local/lib/python3.10/dist-packages (from requests-oauthlib>=0.7.0->google-auth-oauthlib<2,>=0.5->tensorboard<2.16,>=2.15->tensorflow<3,>=2.13.0->tensorflowjs) (3.2.2)\n",
            "Installing collected packages: wurlitzer, tensorflow-decision-forests, tensorflowjs\n",
            "Successfully installed tensorflow-decision-forests-1.8.1 tensorflowjs-4.15.0 wurlitzer-3.0.3\n"
          ]
        }
      ],
      "source": [
        "!pip install tensorflowjs"
      ]
    },
    {
      "cell_type": "code",
      "execution_count": 2,
      "metadata": {
        "colab": {
          "base_uri": "https://localhost:8080/"
        },
        "id": "4eR4PlthVDFU",
        "outputId": "901442e4-4b29-413f-dbf2-2cb4b03239bc"
      },
      "outputs": [
        {
          "output_type": "stream",
          "name": "stderr",
          "text": [
            "WARNING:tensorflow:From <ipython-input-2-40d48ecfa0e3>:20: is_gpu_available (from tensorflow.python.framework.test_util) is deprecated and will be removed in a future version.\n",
            "Instructions for updating:\n",
            "Use `tf.config.list_physical_devices('GPU')` instead.\n"
          ]
        },
        {
          "output_type": "stream",
          "name": "stdout",
          "text": [
            "• Using TensorFlow Version: 2.15.0\n",
            "• Using TensorFlow Hub Version:  0.15.0\n",
            "• GPU Device Found.\n"
          ]
        }
      ],
      "source": [
        "# Import lib\n",
        "import zipfile\n",
        "import os\n",
        "\n",
        "import numpy as np\n",
        "import matplotlib.pylab as plt\n",
        "import matplotlib.pyplot as plt\n",
        "\n",
        "\n",
        "# There is bug in tensorflowjs. see: https://github.com/google/jax/issues/18978. cant import tensorflowjs, so cant convert to tfjs\n",
        "# import tensorflowjs as tfjs\n",
        "\n",
        "import tensorflow as tf\n",
        "import tensorflow_hub as hub\n",
        "from tqdm import tqdm\n",
        "from tensorflow.keras.preprocessing.image import ImageDataGenerator\n",
        "\n",
        "print(\"\\u2022 Using TensorFlow Version:\", tf.__version__)\n",
        "print(\"\\u2022 Using TensorFlow Hub Version: \", hub.__version__)\n",
        "print('\\u2022 GPU Device Found.' if tf.test.is_gpu_available() else '\\u2022 GPU Device Not Found. Running on CPU')"
      ]
    },
    {
      "cell_type": "code",
      "execution_count": 3,
      "metadata": {
        "id": "Hmcqfd2JVXnS",
        "colab": {
          "base_uri": "https://localhost:8080/"
        },
        "outputId": "f24bb161-3527-45bb-9498-6fb44f3ad46d"
      },
      "outputs": [
        {
          "output_type": "stream",
          "name": "stdout",
          "text": [
            "Using https://tfhub.dev/google/tf2-preview/mobilenet_v2/feature_vector/4 with input size (224, 224) and output dimension 1280\n"
          ]
        }
      ],
      "source": [
        "module_selection = (\"mobilenet_v2\", 224, 1280) #@param [\"(\\\"mobilenet_v2\\\", 224, 1280)\", \"(\\\"inception_v3\\\", 299, 2048)\"] {type:\"raw\", allow-input: true}\n",
        "handle_base, pixels, FV_SIZE = module_selection\n",
        "MODULE_HANDLE =\"https://tfhub.dev/google/tf2-preview/{}/feature_vector/4\".format(handle_base)\n",
        "IMAGE_SIZE = (pixels, pixels)\n",
        "print(\"Using {} with input size {} and output dimension {}\".format(MODULE_HANDLE, IMAGE_SIZE, FV_SIZE))"
      ]
    },
    {
      "cell_type": "code",
      "execution_count": 4,
      "metadata": {
        "id": "E6_OxAiSVkvR"
      },
      "outputs": [],
      "source": [
        "# PARSING CSV LABEL\n",
        "# Btw, label didalamnya tuh kek gini:\n",
        "\n",
        "# ' Pertengahan',\n",
        "# ' Tahap Akhir',\n",
        "# ' Tahap Awal',\n",
        "# ' Telur Mati',\n",
        "\n",
        "# Ada spasinya gitu, tapi ga masalah sih, cuma ngingetin aja\n",
        "# kalo ada bug, bisa jadi karena labelnya ini\n",
        "\n",
        "import zipfile\n",
        "import os\n",
        "import pandas as pd\n",
        "\n",
        "# Extract the archive\n",
        "# ini file zip-nya di upload ke colab. biar simple aja. kalo mau pake drive ya sangat-sangat recomended.\n",
        "\n",
        "local_zip = '/content/egg-condition-classifications.v2i.multiclass (with test).zip'\n",
        "# local_zip = '/content/egg-condition-classifications.v2i.multiclass.zip'\n",
        "zip_ref = zipfile.ZipFile(local_zip, 'r')\n",
        "zip_ref.extractall('/content/data/')\n",
        "zip_ref.close()\n",
        "\n",
        "# Assign training and validation set directories\n",
        "base_dir = '/content/data'\n",
        "train_dir = os.path.join(base_dir, 'train')\n",
        "valid_dir = os.path.join(base_dir, 'valid')\n",
        "test_dir = os.path.join(base_dir, 'test')\n",
        "\n",
        "# Load the labels\n",
        "train_labels = pd.read_csv(\"/content/data/train/_classes.csv\")\n",
        "valid_labels = pd.read_csv(\"/content/data/valid/_classes.csv\")\n",
        "test_labels = pd.read_csv(\"/content/data/test/_classes.csv\")\n",
        "\n",
        "#parsing train_labels\n",
        "train_labels['combined_label'] = train_labels.apply(\n",
        "    lambda row: 'Pertengahan' if row[' Pertengahan'] == 1  else (\n",
        "        'Tahap_akhir' if row[' Tahap Akhir'] == 1 else (\n",
        "            'Tahap_awal' if row[' Tahap Awal'] == 1 else 'Telur_mati'\n",
        "        )\n",
        "    ),\n",
        "    axis=1\n",
        ")\n",
        "#parsing valid_labels\n",
        "valid_labels['combined_label'] = valid_labels.apply(\n",
        "    lambda row: 'Pertengahan' if row[' Pertengahan'] == 1  else (\n",
        "        'Tahap_akhir' if row[' Tahap Akhir'] == 1 else (\n",
        "            'Tahap_awal' if row[' Tahap Awal'] == 1 else 'Telur_mati'\n",
        "        )\n",
        "    ),\n",
        "    axis=1\n",
        ")\n",
        "#parsing test_labels\n",
        "test_labels['combined_label'] = test_labels.apply(\n",
        "    lambda row: 'Pertengahan' if row[' Pertengahan'] == 1  else (\n",
        "        'Tahap_akhir' if row[' Tahap Akhir'] == 1 else (\n",
        "            'Tahap_awal' if row[' Tahap Awal'] == 1 else 'Telur_mati'\n",
        "        )\n",
        "    ),\n",
        "    axis=1\n",
        ")"
      ]
    },
    {
      "cell_type": "code",
      "execution_count": 5,
      "metadata": {
        "id": "Jrs0nvNAW6-x",
        "colab": {
          "base_uri": "https://localhost:8080/"
        },
        "outputId": "dde9e9a8-d692-4b90-dbf6-3a8e97ab1a66"
      },
      "outputs": [
        {
          "output_type": "stream",
          "name": "stdout",
          "text": [
            "Mounted at /content/drive\n"
          ]
        }
      ],
      "source": [
        "# from google.colab import drive\n",
        "# drive.mount('/content/drive')"
      ]
    },
    {
      "cell_type": "code",
      "execution_count": 5,
      "metadata": {
        "id": "cyWrV4xFWcmt",
        "colab": {
          "base_uri": "https://localhost:8080/"
        },
        "outputId": "fbc1f221-fc9b-41e3-c3b6-f39267a8aec9"
      },
      "outputs": [
        {
          "output_type": "stream",
          "name": "stdout",
          "text": [
            "Found 429 validated image filenames belonging to 4 classes.\n",
            "Found 165 validated image filenames belonging to 4 classes.\n",
            "Found 68 validated image filenames belonging to 4 classes.\n"
          ]
        }
      ],
      "source": [
        "# PREPROCESSING BANGGG\n",
        "\n",
        "BATCH_SIZE = 13\n",
        "\n",
        "training_datagen = ImageDataGenerator(\n",
        "\t  rescale = 1./255,\n",
        "    rotation_range=40,\n",
        "    width_shift_range=0.2,\n",
        "    height_shift_range=0.2,\n",
        "    shear_range=0.2,\n",
        "    zoom_range=0.2,\n",
        "    horizontal_flip=True,\n",
        "    fill_mode='nearest'\n",
        ") # with augmentation\n",
        "\n",
        "valid_datagen = ImageDataGenerator(\n",
        "    rescale = 1./255,\n",
        "    rotation_range=40,\n",
        "    width_shift_range=0.2,\n",
        "    height_shift_range=0.2,\n",
        "    shear_range=0.2,\n",
        "    zoom_range=0.2,\n",
        "    horizontal_flip=True,\n",
        "    fill_mode='nearest'\n",
        "    )\n",
        "\n",
        "test_datagen = ImageDataGenerator(rescale = 1./255)\n",
        "\n",
        "train_generator = training_datagen.flow_from_dataframe(\n",
        "    train_labels,\n",
        "    directory=train_dir,\n",
        "    x_col=\"filename\",  # nama kolom yang berisi nama gambar pada csv train.\n",
        "    y_col=\"combined_label\",  # nama kolom yang berisi label pada csv train.\n",
        "    target_size=(224, 224),\n",
        "    class_mode='categorical',\n",
        "    batch_size=BATCH_SIZE,\n",
        "    shuffle=len(train_labels) // 52\n",
        ")#.prefetch(tf.keras.data.experimental.AUTOTUNE)\n",
        "\n",
        "valid_generator = valid_datagen.flow_from_dataframe(\n",
        "    valid_labels,\n",
        "    directory=valid_dir,\n",
        "    x_col=\"filename\",  # nama kolom yang berisi nama gambar pada csv valid.\n",
        "    y_col=\"combined_label\",  # nama kolom yang berisi label pada csv valid.\n",
        "    target_size=(224, 224),\n",
        "    class_mode='categorical',\n",
        "    batch_size=BATCH_SIZE,\n",
        "    shuffle=len(valid_labels) // 20\n",
        ")#.prefetch(tf.keras.data.experimental.AUTOTUNE)\n",
        "\n",
        "test_generator = test_datagen.flow_from_dataframe(\n",
        "    test_labels,\n",
        "    directory=test_dir,\n",
        "    x_col=\"filename\",  # nama kolom yang berisi nama gambar pada csv train.\n",
        "    y_col=\"combined_label\",  # nama kolom yang berisi label pada csv train.\n",
        "    target_size=(224, 224),\n",
        "    class_mode='categorical',\n",
        "    batch_size=1\n",
        ")"
      ]
    },
    {
      "cell_type": "code",
      "execution_count": 6,
      "metadata": {
        "id": "Lf57g2TfWurf"
      },
      "outputs": [],
      "source": [
        "# Convert Datagen (FrameIterator) to tf.data.Dataset for Atribut .take()\n",
        "\n",
        "train_dataset = tf.data.Dataset.from_generator(\n",
        "    lambda: train_generator,\n",
        "    output_signature=(\n",
        "        tf.TensorSpec(shape=(BATCH_SIZE,224, 224, 3), dtype=tf.float32),\n",
        "        tf.TensorSpec(shape=(BATCH_SIZE, 4), dtype=tf.float32) # 4 for num of class\n",
        "    )\n",
        ")\n",
        "\n",
        "valid_dataset = tf.data.Dataset.from_generator(\n",
        "    lambda: valid_generator,\n",
        "    output_signature=(\n",
        "        tf.TensorSpec(shape=(BATCH_SIZE,224, 224, 3), dtype=tf.float32),\n",
        "        tf.TensorSpec(shape=(BATCH_SIZE, 4), dtype=tf.float32) # 4 for num of class\n",
        "    )\n",
        ")\n",
        "\n",
        "test_dataset = tf.data.Dataset.from_generator(\n",
        "    lambda: test_generator,\n",
        "    output_signature=(\n",
        "        tf.TensorSpec(shape=(1,224, 224, 3), dtype=tf.float32),\n",
        "        tf.TensorSpec(shape=(1, 4), dtype=tf.float32) # 4 for num of class\n",
        "    )\n",
        ")\n",
        "\n"
      ]
    },
    {
      "cell_type": "code",
      "execution_count": 7,
      "metadata": {
        "id": "qaLpxUrmW8E2",
        "colab": {
          "base_uri": "https://localhost:8080/"
        },
        "outputId": "fb9ef2e6-1199-4679-fb24-19cdf6ecd3a9"
      },
      "outputs": [
        {
          "output_type": "execute_result",
          "data": {
            "text/plain": [
              "TensorShape([13, 224, 224, 3])"
            ]
          },
          "metadata": {},
          "execution_count": 7
        }
      ],
      "source": [
        "# Take one batch from the dataset\n",
        "for image_batch, label_batch in train_dataset.take(1):\n",
        "    pass\n",
        "\n",
        "# Now you can use image_batch and label_batch as NumPy arrays\n",
        "image_batch.shape"
      ]
    },
    {
      "cell_type": "code",
      "execution_count": 16,
      "metadata": {
        "id": "d---5EEHW8vQ",
        "colab": {
          "base_uri": "https://localhost:8080/"
        },
        "outputId": "72f4f1f8-08b5-4a46-fddc-34e5e054c946"
      },
      "outputs": [
        {
          "output_type": "stream",
          "name": "stdout",
          "text": [
            "Building model with https://tfhub.dev/google/tf2-preview/mobilenet_v2/feature_vector/4\n",
            "Model: \"sequential_2\"\n",
            "_________________________________________________________________\n",
            " Layer (type)                Output Shape              Param #   \n",
            "=================================================================\n",
            " keras_layer_2 (KerasLayer)  (None, 1280)              2257984   \n",
            "                                                                 \n",
            " flatten_2 (Flatten)         (None, 1280)              0         \n",
            "                                                                 \n",
            " dense_4 (Dense)             (None, 512)               655872    \n",
            "                                                                 \n",
            " dense_5 (Dense)             (None, 4)                 2052      \n",
            "                                                                 \n",
            "=================================================================\n",
            "Total params: 2915908 (11.12 MB)\n",
            "Trainable params: 2881796 (10.99 MB)\n",
            "Non-trainable params: 34112 (133.25 KB)\n",
            "_________________________________________________________________\n"
          ]
        }
      ],
      "source": [
        "# Defining the Model\n",
        "# All it takes is to put a linear classifier\n",
        "# on top of the feature_extractor_layer with the Hub module.\n",
        "\n",
        "# For speed, i start out with a non-trainable feature_extractor_layer,\n",
        "# but you can also enable fine-tuning for greater accuracy.\n",
        "\n",
        "do_fine_tuning = True\n",
        "\n",
        "feature_extractor = hub.KerasLayer(MODULE_HANDLE,\n",
        "                                   input_shape=IMAGE_SIZE + (3,),\n",
        "                                   output_shape=[FV_SIZE],\n",
        "                                   trainable=do_fine_tuning)\n",
        "\n",
        "print(\"Building model with\", MODULE_HANDLE)\n",
        "\n",
        "model = tf.keras.Sequential([\n",
        "        feature_extractor,\n",
        "        tf.keras.layers.Flatten(),\n",
        "        tf.keras.layers.Dense(512, activation='relu'),\n",
        "        # tf.keras.layers.Dropout(0.2),\n",
        "        tf.keras.layers.Dense(4, activation='softmax')\n",
        "])\n",
        "\n",
        "model.summary()"
      ]
    },
    {
      "cell_type": "code",
      "execution_count": 17,
      "metadata": {
        "id": "rPsDfhnIXVoF"
      },
      "outputs": [],
      "source": [
        "# Optional Unfreeze some layers\n",
        "NUM_LAYERS = 1 # min 1, max 50\n",
        "\n",
        "if do_fine_tuning:\n",
        "    feature_extractor.trainable = True\n",
        "\n",
        "    for layer in model.layers[-NUM_LAYERS:]:\n",
        "        layer.trainable = True\n",
        "\n",
        "else:\n",
        "    feature_extractor.trainable = False"
      ]
    },
    {
      "cell_type": "code",
      "execution_count": 18,
      "metadata": {
        "id": "uWZHrKlEVjeX"
      },
      "outputs": [],
      "source": [
        "class myCallback(tf.keras.callbacks.Callback):\n",
        "  def on_epoch_end(self, epoch, logs={}):\n",
        "    # Check the loss\n",
        "    if(logs.get('val_accuracy') > 0.90 and logs.get('accuracy') > 0.976 ):\n",
        "\n",
        "      # Stop if threshold is met\n",
        "      print(\"\\n val_acc > 90 & acc > 97. stop training\")\n",
        "      self.model.stop_training = True\n",
        "\n",
        "# Instantiate class\n",
        "callbacks = myCallback()\n",
        "\n",
        "\n",
        "lr_callback = tf.keras.callbacks.ReduceLROnPlateau(\n",
        "    monitor='val_loss',\n",
        "    factor=0.1,\n",
        "    patience=4,\n",
        "    min_lr=1e-6\n",
        ")"
      ]
    },
    {
      "cell_type": "code",
      "execution_count": 19,
      "metadata": {
        "id": "oJfHvMoFXbgk",
        "colab": {
          "base_uri": "https://localhost:8080/"
        },
        "outputId": "fdff5b92-b729-4a05-ee7f-3f4f10e0160a"
      },
      "outputs": [
        {
          "output_type": "stream",
          "name": "stdout",
          "text": [
            "Epoch 1/200\n",
            "33/33 - 80s - loss: 1.2828 - accuracy: 0.4452 - val_loss: 1.3820 - val_accuracy: 0.3654 - lr: 0.0010 - 80s/epoch - 2s/step\n",
            "Epoch 2/200\n",
            "33/33 - 9s - loss: 0.9596 - accuracy: 0.7319 - val_loss: 1.1569 - val_accuracy: 0.5705 - lr: 0.0010 - 9s/epoch - 284ms/step\n",
            "Epoch 3/200\n",
            "33/33 - 10s - loss: 0.8095 - accuracy: 0.7879 - val_loss: 0.9850 - val_accuracy: 0.7115 - lr: 0.0010 - 10s/epoch - 298ms/step\n",
            "Epoch 4/200\n",
            "33/33 - 8s - loss: 0.7124 - accuracy: 0.7995 - val_loss: 0.8751 - val_accuracy: 0.7372 - lr: 0.0010 - 8s/epoch - 244ms/step\n",
            "Epoch 5/200\n",
            "33/33 - 8s - loss: 0.6513 - accuracy: 0.8135 - val_loss: 0.7292 - val_accuracy: 0.7692 - lr: 0.0010 - 8s/epoch - 244ms/step\n",
            "Epoch 6/200\n",
            "33/33 - 9s - loss: 0.5192 - accuracy: 0.8858 - val_loss: 0.6164 - val_accuracy: 0.8526 - lr: 0.0010 - 9s/epoch - 266ms/step\n",
            "Epoch 7/200\n",
            "33/33 - 8s - loss: 0.4889 - accuracy: 0.8998 - val_loss: 0.5958 - val_accuracy: 0.8654 - lr: 0.0010 - 8s/epoch - 241ms/step\n",
            "Epoch 8/200\n",
            "33/33 - 9s - loss: 0.4593 - accuracy: 0.9021 - val_loss: 0.5125 - val_accuracy: 0.8654 - lr: 0.0010 - 9s/epoch - 264ms/step\n",
            "Epoch 9/200\n",
            "33/33 - 9s - loss: 0.4458 - accuracy: 0.8928 - val_loss: 0.4615 - val_accuracy: 0.8782 - lr: 0.0010 - 9s/epoch - 286ms/step\n",
            "Epoch 10/200\n",
            "33/33 - 11s - loss: 0.3812 - accuracy: 0.9301 - val_loss: 0.4673 - val_accuracy: 0.8654 - lr: 0.0010 - 11s/epoch - 323ms/step\n",
            "Epoch 11/200\n",
            "33/33 - 7s - loss: 0.3589 - accuracy: 0.9347 - val_loss: 0.4505 - val_accuracy: 0.8782 - lr: 0.0010 - 7s/epoch - 222ms/step\n",
            "Epoch 12/200\n",
            "33/33 - 7s - loss: 0.3624 - accuracy: 0.9207 - val_loss: 0.4227 - val_accuracy: 0.8846 - lr: 0.0010 - 7s/epoch - 222ms/step\n",
            "Epoch 13/200\n",
            "33/33 - 9s - loss: 0.3249 - accuracy: 0.9371 - val_loss: 0.4284 - val_accuracy: 0.8654 - lr: 0.0010 - 9s/epoch - 265ms/step\n",
            "Epoch 14/200\n",
            "33/33 - 11s - loss: 0.2928 - accuracy: 0.9510 - val_loss: 0.3937 - val_accuracy: 0.8526 - lr: 0.0010 - 11s/epoch - 329ms/step\n",
            "Epoch 15/200\n",
            "33/33 - 8s - loss: 0.2997 - accuracy: 0.9441 - val_loss: 0.4278 - val_accuracy: 0.8718 - lr: 0.0010 - 8s/epoch - 245ms/step\n",
            "Epoch 16/200\n",
            "33/33 - 9s - loss: 0.2867 - accuracy: 0.9417 - val_loss: 0.3977 - val_accuracy: 0.8654 - lr: 0.0010 - 9s/epoch - 287ms/step\n",
            "Epoch 17/200\n",
            "33/33 - 9s - loss: 0.2573 - accuracy: 0.9604 - val_loss: 0.3741 - val_accuracy: 0.8974 - lr: 0.0010 - 9s/epoch - 280ms/step\n",
            "Epoch 18/200\n",
            "33/33 - 7s - loss: 0.2561 - accuracy: 0.9534 - val_loss: 0.3662 - val_accuracy: 0.9231 - lr: 0.0010 - 7s/epoch - 226ms/step\n",
            "Epoch 19/200\n",
            "33/33 - 9s - loss: 0.2248 - accuracy: 0.9674 - val_loss: 0.3863 - val_accuracy: 0.9038 - lr: 0.0010 - 9s/epoch - 282ms/step\n",
            "Epoch 20/200\n",
            "33/33 - 9s - loss: 0.2567 - accuracy: 0.9510 - val_loss: 0.4296 - val_accuracy: 0.8462 - lr: 0.0010 - 9s/epoch - 279ms/step\n",
            "Epoch 21/200\n",
            "33/33 - 8s - loss: 0.2452 - accuracy: 0.9487 - val_loss: 0.3836 - val_accuracy: 0.8846 - lr: 0.0010 - 8s/epoch - 236ms/step\n",
            "Epoch 22/200\n",
            "33/33 - 8s - loss: 0.2436 - accuracy: 0.9604 - val_loss: 0.3811 - val_accuracy: 0.8910 - lr: 0.0010 - 8s/epoch - 250ms/step\n",
            "Epoch 23/200\n",
            "33/33 - 9s - loss: 0.2300 - accuracy: 0.9557 - val_loss: 0.3863 - val_accuracy: 0.8782 - lr: 1.0000e-04 - 9s/epoch - 265ms/step\n",
            "Epoch 24/200\n",
            "33/33 - 8s - loss: 0.2244 - accuracy: 0.9674 - val_loss: 0.3530 - val_accuracy: 0.9103 - lr: 1.0000e-04 - 8s/epoch - 245ms/step\n",
            "Epoch 25/200\n",
            "33/33 - 9s - loss: 0.2515 - accuracy: 0.9510 - val_loss: 0.3659 - val_accuracy: 0.9038 - lr: 1.0000e-04 - 9s/epoch - 287ms/step\n",
            "Epoch 26/200\n",
            "33/33 - 9s - loss: 0.1925 - accuracy: 0.9837 - val_loss: 0.3558 - val_accuracy: 0.8910 - lr: 1.0000e-04 - 9s/epoch - 285ms/step\n",
            "Epoch 27/200\n",
            "33/33 - 9s - loss: 0.2058 - accuracy: 0.9767 - val_loss: 0.3473 - val_accuracy: 0.8974 - lr: 1.0000e-04 - 9s/epoch - 273ms/step\n",
            "Epoch 28/200\n",
            "33/33 - 9s - loss: 0.2206 - accuracy: 0.9650 - val_loss: 0.3057 - val_accuracy: 0.9231 - lr: 1.0000e-04 - 9s/epoch - 267ms/step\n",
            "Epoch 29/200\n",
            "33/33 - 9s - loss: 0.2372 - accuracy: 0.9697 - val_loss: 0.3243 - val_accuracy: 0.8974 - lr: 1.0000e-04 - 9s/epoch - 263ms/step\n",
            "Epoch 30/200\n",
            "33/33 - 11s - loss: 0.2043 - accuracy: 0.9674 - val_loss: 0.3601 - val_accuracy: 0.9103 - lr: 1.0000e-04 - 11s/epoch - 332ms/step\n",
            "Epoch 31/200\n",
            "33/33 - 8s - loss: 0.1984 - accuracy: 0.9697 - val_loss: 0.3655 - val_accuracy: 0.9103 - lr: 1.0000e-04 - 8s/epoch - 241ms/step\n",
            "Epoch 32/200\n",
            "33/33 - 8s - loss: 0.1780 - accuracy: 0.9814 - val_loss: 0.3539 - val_accuracy: 0.8974 - lr: 1.0000e-04 - 8s/epoch - 252ms/step\n",
            "Epoch 33/200\n",
            "33/33 - 10s - loss: 0.2081 - accuracy: 0.9650 - val_loss: 0.3705 - val_accuracy: 0.8718 - lr: 1.0000e-05 - 10s/epoch - 289ms/step\n",
            "Epoch 34/200\n",
            "33/33 - 9s - loss: 0.2234 - accuracy: 0.9580 - val_loss: 0.3453 - val_accuracy: 0.9167 - lr: 1.0000e-05 - 9s/epoch - 277ms/step\n",
            "Epoch 35/200\n",
            "33/33 - 8s - loss: 0.2064 - accuracy: 0.9650 - val_loss: 0.3640 - val_accuracy: 0.8910 - lr: 1.0000e-05 - 8s/epoch - 248ms/step\n",
            "Epoch 36/200\n",
            "33/33 - 8s - loss: 0.2109 - accuracy: 0.9744 - val_loss: 0.3429 - val_accuracy: 0.9103 - lr: 1.0000e-05 - 8s/epoch - 247ms/step\n",
            "Epoch 37/200\n",
            "33/33 - 9s - loss: 0.2191 - accuracy: 0.9627 - val_loss: 0.3603 - val_accuracy: 0.8974 - lr: 1.0000e-06 - 9s/epoch - 270ms/step\n",
            "Epoch 38/200\n",
            "33/33 - 9s - loss: 0.2128 - accuracy: 0.9674 - val_loss: 0.3567 - val_accuracy: 0.8974 - lr: 1.0000e-06 - 9s/epoch - 267ms/step\n",
            "Epoch 39/200\n",
            "\n",
            " val_acc > 90 & acc > 97. stop training\n",
            "33/33 - 8s - loss: 0.2026 - accuracy: 0.9814 - val_loss: 0.3487 - val_accuracy: 0.9038 - lr: 1.0000e-06 - 8s/epoch - 245ms/step\n"
          ]
        }
      ],
      "source": [
        "# TRAINING\n",
        "\n",
        "if do_fine_tuning:\n",
        "    model.compile(\n",
        "                  optimizer=tf.keras.optimizers.SGD(learning_rate=0.001),\n",
        "                  # optimizer=tf.keras.optimizers.Adam(learning_rate=0.001),\n",
        "                  loss=tf.keras.losses.CategoricalCrossentropy(),\n",
        "                  metrics=['accuracy'])\n",
        "else:\n",
        "    model.compile(optimizer=tf.keras.optimizers.Adam(learning_rate=0.001),\n",
        "                  loss='categorical_crossentropy',\n",
        "                  metrics=['accuracy'])\n",
        "\n",
        "steps_per_epoch = train_generator.n\n",
        "validation_steps = valid_generator.n\n",
        "\n",
        "EPOCHS = 200\n",
        "hist = model.fit(train_generator,\n",
        "                 epochs=EPOCHS,\n",
        "                 validation_data=valid_generator,\n",
        "                 steps_per_epoch=steps_per_epoch // 13,\n",
        "                 verbose=2,\n",
        "                 validation_steps=validation_steps // 13,\n",
        "                 callbacks=[callbacks, lr_callback])"
      ]
    },
    {
      "cell_type": "markdown",
      "metadata": {
        "id": "Ppr2tDA_XlYZ"
      },
      "source": [
        "# Visualization"
      ]
    },
    {
      "cell_type": "code",
      "execution_count": 20,
      "metadata": {
        "id": "p2hqurrfXn2C",
        "colab": {
          "base_uri": "https://localhost:8080/",
          "height": 887
        },
        "outputId": "85671f2d-1981-4b3b-d156-9f0cff698308"
      },
      "outputs": [
        {
          "output_type": "display_data",
          "data": {
            "text/plain": [
              "<Figure size 640x480 with 1 Axes>"
            ],
            "image/png": "[encoded data removed]"
          },
          "metadata": {}
        },
        {
          "output_type": "display_data",
          "data": {
            "text/plain": [
              "<Figure size 640x480 with 1 Axes>"
            ],
            "image/png": "[encoded data removed]"
          },
          "metadata": {}
        }
      ],
      "source": [
        "# Plot the results\n",
        "acc = hist.history['accuracy']\n",
        "val_acc = hist.history['val_accuracy']\n",
        "loss = hist.history['loss']\n",
        "val_loss = hist.history['val_loss']\n",
        "\n",
        "epochs = range(len(acc))\n",
        "\n",
        "plt.plot(epochs, acc, 'r', label='Training accuracy')\n",
        "plt.plot(epochs, val_acc, 'b', label='Validation accuracy')\n",
        "plt.title('Training and validation accuracy')\n",
        "plt.legend()\n",
        "plt.figure()\n",
        "\n",
        "plt.plot(epochs, loss, 'r', label='Training Loss')\n",
        "plt.plot(epochs, val_loss, 'b', label='Validation Loss')\n",
        "plt.title('Training and validation loss')\n",
        "plt.legend()\n",
        "\n",
        "plt.show()"
      ]
    },
    {
      "cell_type": "markdown",
      "metadata": {
        "id": "2M2_8rhrXwBG"
      },
      "source": [
        "# Export/Save Model"
      ]
    },
    {
      "cell_type": "code",
      "execution_count": 21,
      "metadata": {
        "id": "D5AxsVElX6_u"
      },
      "outputs": [],
      "source": [
        "EGG_CANDLING_SAVED_MODEL = \"exp_saved_model/1\"\n",
        "\n",
        "tf.saved_model.save(model, EGG_CANDLING_SAVED_MODEL)"
      ]
    },
    {
      "cell_type": "code",
      "source": [
        "# convert ke zip\n",
        "\n",
        "# Nama folder yang berisi hasil konversi TensorFlow.js\n",
        "folder_model = 'exp_saved_model'\n",
        "\n",
        "# Fungsi untuk membuat file zip dari folder hasil konversi\n",
        "def create_zip_file(folder_name):\n",
        "    with zipfile.ZipFile('exp_saved_model.zip', 'w', zipfile.ZIP_DEFLATED) as zipf:\n",
        "        for root, dirs, files in os.walk(folder_name):\n",
        "            for file in files:\n",
        "                file_path = os.path.join(root, file)\n",
        "                zipf.write(file_path, os.path.relpath(file_path, folder_name))\n",
        "\n",
        "# Panggil fungsi untuk membuat file zip\n",
        "create_zip_file(folder_model)\n",
        "\n",
        "try:\n",
        "    from google.colab import files\n",
        "    files.download('exp_saved_model.zip')\n",
        "except:\n",
        "    pass"
      ],
      "metadata": {
        "colab": {
          "base_uri": "https://localhost:8080/",
          "height": 17
        },
        "id": "qntfimQL-hWC",
        "outputId": "aea2ed80-7049-458f-d545-b83a3f5473d2"
      },
      "execution_count": 22,
      "outputs": [
        {
          "output_type": "display_data",
          "data": {
            "text/plain": [
              "<IPython.core.display.Javascript object>"
            ],
            "application/javascript": [
              "\n",
              "    async function download(id, filename, size) {\n",
              "      if (!google.colab.kernel.accessAllowed) {\n",
              "        return;\n",
              "      }\n",
              "      const div = document.createElement('div');\n",
              "      const label = document.createElement('label');\n",
              "      label.textContent = `Downloading \"${filename}\": `;\n",
              "      div.appendChild(label);\n",
              "      const progress = document.createElement('progress');\n",
              "      progress.max = size;\n",
              "      div.appendChild(progress);\n",
              "      document.body.appendChild(div);\n",
              "\n",
              "      const buffers = [];\n",
              "      let downloaded = 0;\n",
              "\n",
              "      const channel = await google.colab.kernel.comms.open(id);\n",
              "      // Send a message to notify the kernel that we're ready.\n",
              "      channel.send({})\n",
              "\n",
              "      for await (const message of channel.messages) {\n",
              "        // Send a message to notify the kernel that we're ready.\n",
              "        channel.send({})\n",
              "        if (message.buffers) {\n",
              "          for (const buffer of message.buffers) {\n",
              "            buffers.push(buffer);\n",
              "            downloaded += buffer.byteLength;\n",
              "            progress.value = downloaded;\n",
              "          }\n",
              "        }\n",
              "      }\n",
              "      const blob = new Blob(buffers, {type: 'application/binary'});\n",
              "      const a = document.createElement('a');\n",
              "      a.href = window.URL.createObjectURL(blob);\n",
              "      a.download = filename;\n",
              "      div.appendChild(a);\n",
              "      a.click();\n",
              "      div.remove();\n",
              "    }\n",
              "  "
            ]
          },
          "metadata": {}
        },
        {
          "output_type": "display_data",
          "data": {
            "text/plain": [
              "<IPython.core.display.Javascript object>"
            ],
            "application/javascript": [
              "download(\"download_2410cd80-7ed0-4f38-80e1-1e5b346ceeb6\", \"exp_saved_model.zip\", 21782991)"
            ]
          },
          "metadata": {}
        }
      ]
    },
    {
      "cell_type": "markdown",
      "metadata": {
        "id": "mBXqCvgJZHB5"
      },
      "source": [
        "# Convert to TFLite"
      ]
    },
    {
      "cell_type": "code",
      "execution_count": 24,
      "metadata": {
        "id": "BoZsGrK1YFzC"
      },
      "outputs": [],
      "source": [
        "# INI KALO MAU CONVERT KE TFLITE\n",
        "converter = tf.lite.TFLiteConverter.from_saved_model(EGG_CANDLING_SAVED_MODEL)\n",
        "\n",
        "\n",
        "\n",
        "# Post-Training Quantization\n",
        "# ----------------------------\n",
        "# The simplest form of post-training quantization quantizes weights\n",
        "# from floating point to 8-bits of precision.\n",
        "# This technique is enabled as an option in the TensorFlow Lite converter.\n",
        "# At inference, weights are converted from 8-bits of precision to floating point\n",
        "# and computed using floating-point kernels. This conversion is done once\n",
        "# and cached to reduce latency.\n",
        "\n",
        "# To further improve latency, hybrid operators dynamically quantize activations\n",
        "# to 8-bits and perform computations with 8-bit weights and activations.\n",
        "# This optimization provides latencies close to fully fixed-point inference.\n",
        "# However, the outputs are still stored using floating point,\n",
        "# so that the speedup with hybrid ops is less than a full fixed-point computation.\n",
        "\n",
        "converter.optimizations = [tf.lite.Optimize.DEFAULT]\n",
        "\n",
        "\n",
        "# Post-Training Integer Quantization\n",
        "# ----------------------------\n",
        "# We can get further latency improvements, reductions in peak memory usage,\n",
        "# and access to integer only hardware accelerators\n",
        "# by making sure all model math is quantized. To do this,\n",
        "# we need to measure the dynamic range of activations and inputs\n",
        "# with a representative data set. You can simply create an input data generator\n",
        "# and provide it to our converter.\n",
        "\n",
        "def representative_data_gen():\n",
        "    for input_value, _ in test_dataset.take(67):\n",
        "        yield [input_value]\n",
        "\n",
        "converter.representative_dataset = representative_data_gen\n",
        "\n",
        "# The resulting model will be fully quantized but still take float input and output for convenience.\n",
        "\n",
        "# Ops that do not have quantized implementations will automatically be left in floating point.\n",
        "# This allows conversion to occur smoothly but may restrict deployment to accelerators that support float.\n",
        "\n",
        "\n",
        "# Full Integer Quantization\n",
        "# ----------------------------\n",
        "# To require the converter to only output integer operations, one can specify:\n",
        "\n",
        "converter.target_spec.supported_ops = [tf.lite.OpsSet.TFLITE_BUILTINS_INT8]\n",
        "\n",
        "\n",
        "# FINALLY CONVERT THE MODEL\n",
        "tflite_model = converter.convert()\n",
        "tflite_model_file = 'converted_model.tflite'\n",
        "\n",
        "with open(tflite_model_file, \"wb\") as f:\n",
        "    f.write(tflite_model)\n"
      ]
    },
    {
      "cell_type": "code",
      "execution_count": 25,
      "metadata": {
        "id": "tjWysErrZqr-",
        "colab": {
          "base_uri": "https://localhost:8080/",
          "height": 17
        },
        "outputId": "59e8795e-5e5b-4b52-92cd-c544917da1da"
      },
      "outputs": [
        {
          "output_type": "display_data",
          "data": {
            "text/plain": [
              "<IPython.core.display.Javascript object>"
            ],
            "application/javascript": [
              "\n",
              "    async function download(id, filename, size) {\n",
              "      if (!google.colab.kernel.accessAllowed) {\n",
              "        return;\n",
              "      }\n",
              "      const div = document.createElement('div');\n",
              "      const label = document.createElement('label');\n",
              "      label.textContent = `Downloading \"${filename}\": `;\n",
              "      div.appendChild(label);\n",
              "      const progress = document.createElement('progress');\n",
              "      progress.max = size;\n",
              "      div.appendChild(progress);\n",
              "      document.body.appendChild(div);\n",
              "\n",
              "      const buffers = [];\n",
              "      let downloaded = 0;\n",
              "\n",
              "      const channel = await google.colab.kernel.comms.open(id);\n",
              "      // Send a message to notify the kernel that we're ready.\n",
              "      channel.send({})\n",
              "\n",
              "      for await (const message of channel.messages) {\n",
              "        // Send a message to notify the kernel that we're ready.\n",
              "        channel.send({})\n",
              "        if (message.buffers) {\n",
              "          for (const buffer of message.buffers) {\n",
              "            buffers.push(buffer);\n",
              "            downloaded += buffer.byteLength;\n",
              "            progress.value = downloaded;\n",
              "          }\n",
              "        }\n",
              "      }\n",
              "      const blob = new Blob(buffers, {type: 'application/binary'});\n",
              "      const a = document.createElement('a');\n",
              "      a.href = window.URL.createObjectURL(blob);\n",
              "      a.download = filename;\n",
              "      div.appendChild(a);\n",
              "      a.click();\n",
              "      div.remove();\n",
              "    }\n",
              "  "
            ]
          },
          "metadata": {}
        },
        {
          "output_type": "display_data",
          "data": {
            "text/plain": [
              "<IPython.core.display.Javascript object>"
            ],
            "application/javascript": [
              "download(\"download_62b8f6d4-fcc2-4d86-8111-5270c7a43c68\", \"converted_model.tflite\", 3370456)"
            ]
          },
          "metadata": {}
        }
      ],
      "source": [
        "# KALO MAU DOWNLOAD HASIL CONVERT DI COLLAB\n",
        "try:\n",
        "    from google.colab import files\n",
        "    files.download('converted_model.tflite')\n",
        "except:\n",
        "    pass"
      ]
    },
    {
      "cell_type": "markdown",
      "metadata": {
        "id": "c8kkXYALZ5hx"
      },
      "source": [
        "# Convert to TFJS"
      ]
    },
    {
      "cell_type": "code",
      "execution_count": null,
      "metadata": {
        "id": "JkFUARriZ8XI"
      },
      "outputs": [],
      "source": [
        "# Convert the SavedModel to TensorFlow.js format\n",
        "tfjs.converters.convert_tf_saved_model(EGG_CANDLING_SAVED_MODEL, 'tfjs_model')"
      ]
    },
    {
      "cell_type": "code",
      "execution_count": null,
      "metadata": {
        "id": "HGz35yL0a2it"
      },
      "outputs": [],
      "source": [
        "# convert ke zip\n",
        "\n",
        "# Nama folder yang berisi hasil konversi TensorFlow.js\n",
        "folder_model = 'tfjs_model'\n",
        "\n",
        "# Fungsi untuk membuat file zip dari folder hasil konversi\n",
        "def create_zip_file(folder_name):\n",
        "    with zipfile.ZipFile('tfjs_model.zip', 'w', zipfile.ZIP_DEFLATED) as zipf:\n",
        "        for root, dirs, files in os.walk(folder_name):\n",
        "            for file in files:\n",
        "                file_path = os.path.join(root, file)\n",
        "                zipf.write(file_path, os.path.relpath(file_path, folder_name))\n",
        "\n",
        "# Panggil fungsi untuk membuat file zip\n",
        "create_zip_file(folder_model)"
      ]
    },
    {
      "cell_type": "code",
      "execution_count": null,
      "metadata": {
        "id": "1z0sAm2oFNQM"
      },
      "outputs": [],
      "source": [
        "# KALO MAU DOWNLOAD HASIL CONVERT DI COLLAB\n",
        "try:\n",
        "    from google.colab import files\n",
        "    files.download('tfjs_model.zip')\n",
        "except:\n",
        "    pass"
      ]
    },
    {
      "cell_type": "markdown",
      "source": [
        "# Test TFlite Model"
      ],
      "metadata": {
        "id": "jiGsanQ9slJD"
      }
    },
    {
      "cell_type": "code",
      "execution_count": 26,
      "metadata": {
        "id": "vdoneesUZDNn",
        "colab": {
          "base_uri": "https://localhost:8080/",
          "height": 321
        },
        "outputId": "2bf2c3b6-a20a-4549-d04b-157b6117d957"
      },
      "outputs": [
        {
          "output_type": "stream",
          "name": "stderr",
          "text": [
            "100it [00:02, 39.90it/s]\n"
          ]
        },
        {
          "output_type": "display_data",
          "data": {
            "text/plain": [
              "<Figure size 700x600 with 1 Axes>"
            ],
            "image/png": "[encoded data removed]"
          },
          "metadata": {}
        }
      ],
      "source": [
        "# TEST HASIL CONVERT KE TFLITE\n",
        "\n",
        "# Load TFLite model and allocate tensors.\n",
        "\n",
        "interpreter = tf.lite.Interpreter(model_path=tflite_model_file)\n",
        "interpreter.allocate_tensors()\n",
        "\n",
        "input_index = interpreter.get_input_details()[0][\"index\"]\n",
        "output_index = interpreter.get_output_details()[0][\"index\"]\n",
        "\n",
        "# Gather results for the randomly sampled test images\n",
        "predictions = []\n",
        "\n",
        "test_labels, test_imgs = [], []\n",
        "for img, label in tqdm(test_dataset.take(100)):\n",
        "    interpreter.set_tensor(input_index, img)\n",
        "    interpreter.invoke()\n",
        "    predictions.append(interpreter.get_tensor(output_index))\n",
        "\n",
        "    test_labels.append(label.numpy()[0])\n",
        "    test_imgs.append(img)\n",
        "\n",
        "\n",
        "# Utility functions for plotting\n",
        "# Utilities for plotting\n",
        "\n",
        "class_names = ['pertengahan', 'akhir', 'tahap awal', 'telur mati']\n",
        "\n",
        "def plot_image(i, predictions_array, true_label, img):\n",
        "    predictions_array, true_label, img = predictions_array[i], np.argmax(true_label[i]), img[i]\n",
        "    plt.grid(False)\n",
        "    plt.xticks([])\n",
        "    plt.yticks([])\n",
        "\n",
        "    img = np.squeeze(img)\n",
        "\n",
        "    plt.imshow(img, cmap=plt.cm.binary)\n",
        "\n",
        "    predicted_label = np.argmax(predictions_array)\n",
        "\n",
        "    if predicted_label == true_label:\n",
        "        color = 'green'\n",
        "    else:\n",
        "        color = 'red'\n",
        "\n",
        "    plt.xlabel(\"{} {:2.0f}% ({})\".format(class_names[predicted_label],\n",
        "                                         100*np.max(predictions_array),\n",
        "                                         class_names[true_label]), color=color)\n",
        "\n",
        "\n",
        "# Visualize the outputs { run: \"auto\" }\n",
        "index = 61\n",
        "plt.figure(figsize=(7,6))\n",
        "plt.subplot(1,2,1)\n",
        "plot_image(index, predictions, test_labels, test_imgs)\n",
        "plt.show()\n"
      ]
    },
    {
      "cell_type": "code",
      "execution_count": null,
      "metadata": {
        "id": "Ee_qhUAERXMv"
      },
      "outputs": [],
      "source": [
        "# while True:pass"
      ]
    }
  ],
  "metadata": {
    "colab": {
      "provenance": [],
      "gpuType": "T4"
    },
    "kernelspec": {
      "display_name": "Python 3",
      "name": "python3"
    },
    "language_info": {
      "name": "python"
    },
    "accelerator": "GPU"
  },
  "nbformat": 4,
  "nbformat_minor": 0
}